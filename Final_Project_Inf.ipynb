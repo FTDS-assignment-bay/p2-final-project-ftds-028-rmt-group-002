{
  "nbformat": 4,
  "nbformat_minor": 0,
  "metadata": {
    "colab": {
      "provenance": []
    },
    "kernelspec": {
      "name": "python3",
      "display_name": "Python 3"
    },
    "language_info": {
      "name": "python"
    }
  },
  "cells": [
    {
      "cell_type": "markdown",
      "metadata": {
        "id": "CB9tHO0FCrBI"
      },
      "source": [
        "# i. Perkenalan"
      ]
    },
    {
      "cell_type": "markdown",
      "metadata": {
        "id": "4nO1yzZDCvmX"
      },
      "source": [
        "**FINAL PROJECT**\n",
        "\n",
        "**Nama Kelompok:**\n",
        "- Kelvin Rizky Novsa\n",
        "- M Hafiz Juliant\n",
        "- Nailina Farah\n",
        "- Raden Rian Girianom\n",
        "\n",
        "**Latar Belakang:**\n",
        "Prediksi harga real estate menjadi hal krusial dalam industri properti, baik bagi pembeli maupun penjual. Namun, akses terhadap informasi valuasi properti yang akurat seringkali terbatas, menyebabkan ketidakpastian dan potensi kerugian finansial, terutama di daerah California, Amerika Serikat.\n",
        "\n",
        "**Problem Statement:**\n",
        "Dalam menghadapi tantangan ini, kami berkomitmen untuk menciptakan sebuah model prediksi harga rumah dengan tingkat akurasi minimal 80%. Model ini dirancang untuk memberikan akses yang mudah dan dapat diandalkan bagi pemilik rumah yang ingin menjual properti, dengan tujuan mengurangi ketidakpastian dan risiko finansial yang terkait dengan penentuan harga di daerah California, Amerika Serikat.\n",
        "\n",
        "**Solusi:**\n",
        "Untuk mengatasi keterbatasan akses informasi valuasi properti, kami merancang sebuah platform berbasis AI yang menggunakan algoritma machine learning. Platform ini mampu menganalisis berbagai faktor valuasi properti, termasuk ukuran, fasilitas, dan gambar properti yang diunggah oleh pengguna. Dengan memanfaatkan analisis gambar dan informasi yang diberikan oleh pengguna, platform ini memberikan estimasi nilai properti secara transparan. Rekomendasi harga yang disesuaikan dengan kondisi pasar saat ini akan disediakan, memberikan pemilik rumah panduan yang tepat untuk menentukan harga properti mereka."
      ]
    },
    {
      "cell_type": "markdown",
      "source": [
        "# ii. Import Library"
      ],
      "metadata": {
        "id": "7o8V5pV8_Gjb"
      }
    },
    {
      "cell_type": "code",
      "execution_count": 1,
      "metadata": {
        "id": "A8QtK2TSFxPh"
      },
      "outputs": [],
      "source": [
        "# import library yang digunakan\n",
        "import pandas as pd\n",
        "import numpy as np\n",
        "import tensorflow as tf\n",
        "import pickle\n",
        "import matplotlib.pyplot as plt\n",
        "from tensorflow.keras.preprocessing import image\n",
        "from tensorflow.keras.models import load_model"
      ]
    },
    {
      "cell_type": "markdown",
      "source": [
        "# iii. Model dan Pipeline Loading"
      ],
      "metadata": {
        "id": "wqMabfKm_Ju9"
      }
    },
    {
      "cell_type": "code",
      "source": [
        "#load model\n",
        "model = load_model('/content/model.h5')"
      ],
      "metadata": {
        "id": "1j_sGznTYZcA"
      },
      "execution_count": 2,
      "outputs": []
    },
    {
      "cell_type": "code",
      "source": [
        "#load pipeline\n",
        "with open('/content/pipeline.pkl', 'rb') as file:\n",
        "    pipeline = pickle.load(file)"
      ],
      "metadata": {
        "id": "daMOGknAi-Ma"
      },
      "execution_count": 3,
      "outputs": []
    },
    {
      "cell_type": "markdown",
      "source": [
        "# iv. Data Inference"
      ],
      "metadata": {
        "id": "uVmdVIsujWez"
      }
    },
    {
      "cell_type": "code",
      "source": [
        "# Load data tabular\n",
        "\n",
        "data_inf1 = {\n",
        "    'street'  : '1317 Van Buren Avenue',\n",
        "    'citi'    : 'Salton City',\n",
        "    'n_citi'  : 48,\n",
        "    'bed'     : 5,\n",
        "    'bath'    : 3,\n",
        "    'sqft'    : 2417,\n",
        "}\n",
        "\n",
        "data_inf1 = pd.DataFrame([data_inf1])\n",
        "\n",
        "tabular_data = pipeline.transform(data_inf1)"
      ],
      "metadata": {
        "id": "iPVnWtATjZ4E"
      },
      "execution_count": 4,
      "outputs": []
    },
    {
      "cell_type": "code",
      "source": [
        "# Load data gambar\n",
        "def preprocess_image(img_path, target_size=(64, 64)):\n",
        "    img = image.load_img(img_path, target_size=target_size)\n",
        "    img_array = image.img_to_array(img)\n",
        "    img_array_expanded_dims = np.expand_dims(img_array, axis=0)\n",
        "    return img_array_expanded_dims\n",
        "\n",
        "# Path ke gambar yang diunggah\n",
        "img_path = '/content/data_inf.jpeg'\n",
        "\n",
        "# Memuat dan memproses gambar\n",
        "img_data = preprocess_image(img_path)\n",
        "\n",
        "# Menampilkan gambar\n",
        "plt.imshow(img_data[0].astype('uint8'))\n",
        "plt.axis('off')\n",
        "plt.show()"
      ],
      "metadata": {
        "id": "RpYRtXIjkyws",
        "colab": {
          "base_uri": "https://localhost:8080/",
          "height": 406
        },
        "outputId": "8771030d-acf0-460a-a3e4-68cba089fbec"
      },
      "execution_count": 5,
      "outputs": [
        {
          "output_type": "display_data",
          "data": {
            "text/plain": [
              "<Figure size 640x480 with 1 Axes>"
            ],
            "image/png": "[encoded data removed]"
          },
          "metadata": {}
        }
      ]
    },
    {
      "cell_type": "markdown",
      "source": [
        "Image diresize menjadi 64 x 64 pixel sehingga kualitas gambarnya kurang baik namun mengurangi beban komputasi."
      ],
      "metadata": {
        "id": "oA0E3p4bEHKn"
      }
    },
    {
      "cell_type": "markdown",
      "source": [
        "# v. Prediksi"
      ],
      "metadata": {
        "id": "xo6w_03s_SIK"
      }
    },
    {
      "cell_type": "code",
      "source": [
        "combined_input = [tabular_data, img_data]\n",
        "\n",
        "# Membuat prediksi\n",
        "prediksi_price = model.predict(combined_input)\n",
        "print(f\"Prediksi Harga: {prediksi_price[0]}\")"
      ],
      "metadata": {
        "colab": {
          "base_uri": "https://localhost:8080/"
        },
        "id": "lzM-LzQeqz2I",
        "outputId": "cb8a6b01-5cc4-470f-c72b-cb7a9b09b7cb"
      },
      "execution_count": 6,
      "outputs": [
        {
          "output_type": "stream",
          "name": "stdout",
          "text": [
            "1/1 [==============================] - 1s 1s/step\n",
            "Prediksi Harga: [34175.316]\n"
          ]
        }
      ]
    },
    {
      "cell_type": "markdown",
      "source": [
        "Setelah gambar dan fitur rumah diinput, model kami memprediksikan harga rumah tersebut sebesar 34175.316 USD atau sekitar 561,637,143.14 rupiah per 3 April 2024 menurut kalkulator kurs Bank Indonesia."
      ],
      "metadata": {
        "id": "6ggc3ASyEPZq"
      }
    }
  ]
}